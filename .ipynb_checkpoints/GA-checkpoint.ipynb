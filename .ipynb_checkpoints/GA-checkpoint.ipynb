{
 "cells": [
  {
   "cell_type": "code",
   "execution_count": 2,
   "metadata": {},
   "outputs": [],
   "source": [
    "import numpy as np, random, operator, pandas as pd, matplotlib.pyplot as plt\n",
    "from drone_vrp import*"
   ]
  },
  {
   "cell_type": "markdown",
   "metadata": {},
   "source": [
    "#### Replace the Fitness(population[i]).routeDistance() to our own objective function. ####\n",
    "#### Replace  otherParamters to our own parameters which needed to initial and caculate the objective function"
   ]
  },
  {
   "cell_type": "markdown",
   "metadata": {},
   "source": [
    "#### Population will be the list of customer service station route ####"
   ]
  },
  {
   "cell_type": "markdown",
   "metadata": {},
   "source": [
    "#### Fitness(population[i]).routeDistance() will be the service time from route ####"
   ]
  },
  {
   "cell_type": "markdown",
   "metadata": {},
   "source": [
    "#### So that  fitnessResults will be list the 1/serviceTime from the list of route ####"
   ]
  },
  {
   "cell_type": "code",
   "execution_count": 3,
   "metadata": {},
   "outputs": [],
   "source": [
    "def rankRoutes(population, DVRP):\n",
    "    fitnessResults = {}\n",
    "    for i in range(0,len(population)):\n",
    "        DVRP.tour = popution[i]\n",
    "        DVRP.split_route();\n",
    "        fitnessResults[i] = 1/DVRP.objective()\n",
    "    return sorted(fitnessResults.items(), key = operator.itemgetter(1), reverse = True)"
   ]
  },
  {
   "cell_type": "markdown",
   "metadata": {},
   "source": [
    "#### Main method of GA, please replace the otherParamters with our own Parameters need####"
   ]
  },
  {
   "cell_type": "markdown",
   "metadata": {},
   "source": [
    "next gen 100 parent -> spiltroute for each parent -> 100 results -> rankResult -> 20 best parent +80 child -> 100 child ->1% mutate -> next gen 100 parent -> loop"
   ]
  },
  {
   "cell_type": "markdown",
   "metadata": {},
   "source": [
    "Mutate 1% (city1, city2 ..... cityn) -> mutate (city1, cityn ..... city2)"
   ]
  },
  {
   "cell_type": "markdown",
   "metadata": {},
   "source": [
    "loop next gen 500 -> 100 gens ->best 1 output"
   ]
  },
  {
   "cell_type": "code",
   "execution_count": 7,
   "metadata": {},
   "outputs": [],
   "source": [
    "'''\n",
    "Description: Main method of GA\n",
    "Reference: \n",
    "https://levelup.gitconnected.com/how-to-implement-a-traveling-salesman-problem-genetic-algorithm-in-python-ea32c7bef20f\n",
    "https://github.com/rocreguant/personal_blog/blob/main/Genetic_Algorithm_Python_Example/Traveling_Salesman_Problem.ipynb\n",
    "\n",
    "'''\n",
    "\n",
    "## Create our initial population\n",
    "def createRoute(cityList):\n",
    "    route = random.sample(cityList, len(cityList))\n",
    "    \n",
    "    return route\n",
    "\n",
    "#Create first \"population\" (list of routes)\n",
    "def initialPopulation(popSize, cityList):\n",
    "    population = []\n",
    "\n",
    "    for i in range(0, popSize):\n",
    "        population.append(createRoute(cityList))\n",
    "    return population\n",
    "\n",
    "#Create mating pool\n",
    "def selection(popRanked, eliteSize):\n",
    "    selectionResults = []\n",
    "    df = pd.DataFrame(np.array(popRanked), columns=[\"Index\",\"Fitness\"])\n",
    "    df['cum_sum'] = df.Fitness.cumsum()\n",
    "    df['cum_perc'] = 100*df.cum_sum/df.Fitness.sum()\n",
    "    \n",
    "    for i in range(0, eliteSize):\n",
    "        selectionResults.append(popRanked[i][0])\n",
    "    for i in range(0, len(popRanked) - eliteSize):\n",
    "        pick = 100*random.random()\n",
    "        for i in range(0, len(popRanked)):\n",
    "            if pick <= df.iat[i,3]:\n",
    "                selectionResults.append(popRanked[i][0])\n",
    "                break\n",
    "    return selectionResults\n",
    "\n",
    "#Create a crossover function for two parents to create one child\n",
    "def matingPool(population, selectionResults):\n",
    "    matingpool = []\n",
    "    for i in range(0, len(selectionResults)):\n",
    "        index = selectionResults[i]\n",
    "        matingpool.append(population[index])\n",
    "    return matingpool\n",
    "\n",
    "#Create a crossover function for two parents to create one child\n",
    "def breed(parent1, parent2):\n",
    "    child = []\n",
    "    childP1 = []\n",
    "    childP2 = []\n",
    "    \n",
    "    geneA = int(random.random() * len(parent1))\n",
    "    geneB = int(random.random() * len(parent1))\n",
    "    \n",
    "    startGene = min(geneA, geneB)\n",
    "    endGene = max(geneA, geneB)\n",
    "\n",
    "    for i in range(startGene, endGene):\n",
    "        childP1.append(parent1[i])\n",
    "        \n",
    "    childP2 = [item for item in parent2 if item not in childP1]\n",
    "\n",
    "    child = childP1 + childP2\n",
    "    return child\n",
    "\n",
    "#Create function to run crossover over full mating pool\n",
    "def breedPopulation(matingpool, eliteSize):\n",
    "    children = []\n",
    "    length = len(matingpool) - eliteSize\n",
    "    pool = random.sample(matingpool, len(matingpool))\n",
    "\n",
    "    for i in range(0,eliteSize):\n",
    "        children.append(matingpool[i])\n",
    "    \n",
    "    for i in range(0, length):\n",
    "        child = breed(pool[i], pool[len(matingpool)-i-1])\n",
    "        children.append(child)\n",
    "    return children\n",
    "\n",
    "#Create function to mutate a single route\n",
    "def mutate(individual, mutationRate):\n",
    "    for swapped in range(len(individual)):\n",
    "        if(random.random() < mutationRate):\n",
    "            swapWith = int(random.random() * len(individual))\n",
    "            \n",
    "            city1 = individual[swapped]\n",
    "            city2 = individual[swapWith]\n",
    "            \n",
    "            individual[swapped] = city2\n",
    "            individual[swapWith] = city1\n",
    "    return individual\n",
    "\n",
    "#Create function to run mutation over entire population\n",
    "def mutatePopulation(population, mutationRate):\n",
    "    mutatedPop = []\n",
    "    \n",
    "    for ind in range(0, len(population)):\n",
    "        mutatedInd = mutate(population[ind], mutationRate)\n",
    "        mutatedPop.append(mutatedInd)\n",
    "    return mutatedPop\n",
    "\n",
    "#Put all steps together to create the next generation\n",
    "def nextGeneration(currentGen, eliteSize, mutationRate, otherParamters):\n",
    "    popRanked = rankRoutes(currentGen, otherParamters)\n",
    "    selectionResults = selection(popRanked, eliteSize)\n",
    "    matingpool = matingPool(currentGen, selectionResults)\n",
    "    children = breedPopulation(matingpool, eliteSize)\n",
    "    nextGeneration = mutatePopulation(children, mutationRate)\n",
    "    return nextGeneration\n",
    "\n",
    "#Final step: create the genetic algorithm\n",
    "def geneticAlgorithm(population, popSize, eliteSize, mutationRate, generations, otherParamters):\n",
    "    print(pop)\n",
    "    pop = initialPopulation(popSize, population)\n",
    "    print(\"Initial Service Time: \" + str(1 / rankRoutes(pop, otherParamters)[0][1]))\n",
    "    progress = []\n",
    "    progress.append(1 / rankRoutes(pop, otherParamters)[0][1])\n",
    "    for i in range(0, generations):\n",
    "        pop = nextGeneration(pop, eliteSize, mutationRate, otherParamters)\n",
    "        progress.append(1 / rankRoutes(pop, otherParamters)[0][1])\n",
    "    \n",
    "    print(\"Final Service Time: \" + str(1 / rankRoutes(pop, otherParamters)[0][1]))\n",
    "    plt.plot(progress)\n",
    "    plt.ylabel('Service Time')\n",
    "    plt.xlabel('Generation')\n",
    "    plt.show()\n",
    "    bestRouteIndex = rankRoutes(pop, otherParamters)[0][0]\n",
    "    bestRoute = pop[bestRouteIndex]\n",
    "    return bestRoute\n"
   ]
  },
  {
   "cell_type": "markdown",
   "metadata": {},
   "source": [
    "## Running the genetic algorithm"
   ]
  },
  {
   "cell_type": "markdown",
   "metadata": {},
   "source": [
    "### Please replace the cityList with our own Customers Service Satation from either hardcode or data import,\n",
    "### Please replace the otherParamters with our own Parameters needed for mode from either hardcode or data import"
   ]
  },
  {
   "cell_type": "code",
   "execution_count": 8,
   "metadata": {},
   "outputs": [
    {
     "ename": "TypeError",
     "evalue": "'DVRP' object is not callable",
     "output_type": "error",
     "traceback": [
      "\u001b[1;31m---------------------------------------------------------------------------\u001b[0m",
      "\u001b[1;31mTypeError\u001b[0m                                 Traceback (most recent call last)",
      "\u001b[1;32m<ipython-input-8-cdeca37a4d9b>\u001b[0m in \u001b[0;36m<module>\u001b[1;34m\u001b[0m\n\u001b[0;32m     79\u001b[0m     ]\n\u001b[0;32m     80\u001b[0m \u001b[1;33m\u001b[0m\u001b[0m\n\u001b[1;32m---> 81\u001b[1;33m     \u001b[0mDVRP\u001b[0m \u001b[1;33m=\u001b[0m \u001b[0mDVRP\u001b[0m\u001b[1;33m(\u001b[0m\u001b[0mwarehouses\u001b[0m\u001b[1;33m=\u001b[0m\u001b[0mwarehouses\u001b[0m\u001b[1;33m,\u001b[0m \u001b[0mcustomers\u001b[0m\u001b[1;33m=\u001b[0m\u001b[0mcustomers\u001b[0m\u001b[1;33m,\u001b[0m \u001b[0mtrucks\u001b[0m\u001b[1;33m=\u001b[0m\u001b[0mtrucks\u001b[0m\u001b[1;33m,\u001b[0m \u001b[0mdrones\u001b[0m\u001b[1;33m=\u001b[0m\u001b[0mdrones\u001b[0m\u001b[1;33m,\u001b[0m \u001b[0mmap_size\u001b[0m\u001b[1;33m=\u001b[0m\u001b[1;36m100\u001b[0m\u001b[1;33m)\u001b[0m\u001b[1;33m\u001b[0m\u001b[1;33m\u001b[0m\u001b[0m\n\u001b[0m\u001b[0;32m     82\u001b[0m \u001b[1;33m\u001b[0m\u001b[0m\n\u001b[0;32m     83\u001b[0m \u001b[1;33m\u001b[0m\u001b[0m\n",
      "\u001b[1;31mTypeError\u001b[0m: 'DVRP' object is not callable"
     ]
    }
   ],
   "source": [
    "if __name__ == '__main__':\n",
    "    #cityList = []\n",
    "    \n",
    "    #replace this part with out service Statoin List!\n",
    "    #for i in range(0,25):\n",
    "    #    cityList.append(City(x=int(random.random() * 200), y=int(random.random() * 200)))\n",
    "    #otherParamters = 'otherParamters'\n",
    "    #end of replacement!\n",
    "    \n",
    "    \n",
    "    \n",
    "    #replacement now\n",
    "    #warehouses, customers, trucks, drones, map_size = #parse mehtod\n",
    "    \n",
    "    warehouses = [\n",
    "        Warehouse(\n",
    "            id=0,\n",
    "            type=0,\n",
    "            x=0,\n",
    "            y=0\n",
    "        ),\n",
    "        Warehouse(\n",
    "            id=1,\n",
    "            type=0,\n",
    "            x=6,\n",
    "            y=6\n",
    "        ),\n",
    "        Warehouse(\n",
    "            id=2,\n",
    "            type=0,\n",
    "            x=-6,\n",
    "            y=-6\n",
    "        )\n",
    "    ]\n",
    "\n",
    "    customers = [\n",
    "        Customer(\n",
    "            id=0,\n",
    "            type=1,\n",
    "            x=2,\n",
    "            y=2,\n",
    "            demand=1\n",
    "        ),\n",
    "        Customer(\n",
    "            id=1,\n",
    "            type=1,\n",
    "            x=1,\n",
    "            y=1,\n",
    "            demand=1\n",
    "        ),\n",
    "        Customer(\n",
    "            id=2,\n",
    "            type=1,\n",
    "            x=3,\n",
    "            y=1,\n",
    "            demand=1\n",
    "        )\n",
    "    ]\n",
    "    \n",
    "    trucks = [\n",
    "        Truck(\n",
    "            id=0,\n",
    "            start_node=warehouses[0],\n",
    "            speed_factor=1,\n",
    "            item_capacity=10\n",
    "        )\n",
    "    ]\n",
    "\n",
    "    drones = [\n",
    "        Drone(\n",
    "            id=0,\n",
    "            start_node=warehouses[0],\n",
    "            speed_factor=1,\n",
    "            item_capacity=1,\n",
    "            battery_capacity=5,\n",
    "            consumption_rate=1,\n",
    "            charging_speed=5\n",
    "        )\n",
    "    ]\n",
    "\n",
    "    DVRP = DVRP(warehouses=warehouses, customers=customers, trucks=trucks, drones=drones, map_size=100)\n",
    "    \n",
    "   \n",
    "    #end of the replacement now\n",
    "    \n",
    "    bestRoute = geneticAlgorithm(population=customers, popSize=4, eliteSize=1, mutationRate=0.01, generations=10,otherParamters=DVRP)"
   ]
  },
  {
   "cell_type": "markdown",
   "metadata": {},
   "source": [
    "popSize*generations*hur"
   ]
  },
  {
   "cell_type": "code",
   "execution_count": null,
   "metadata": {},
   "outputs": [],
   "source": []
  }
 ],
 "metadata": {
  "kernelspec": {
   "display_name": "Python 3",
   "language": "python",
   "name": "python3"
  },
  "language_info": {
   "codemirror_mode": {
    "name": "ipython",
    "version": 3
   },
   "file_extension": ".py",
   "mimetype": "text/x-python",
   "name": "python",
   "nbconvert_exporter": "python",
   "pygments_lexer": "ipython3",
   "version": "3.8.5"
  }
 },
 "nbformat": 4,
 "nbformat_minor": 4
}
